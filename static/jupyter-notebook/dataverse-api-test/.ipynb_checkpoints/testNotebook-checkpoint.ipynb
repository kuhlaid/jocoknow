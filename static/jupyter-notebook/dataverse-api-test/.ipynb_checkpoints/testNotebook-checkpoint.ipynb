{
 "cells": [
  {
   "cell_type": "markdown",
   "id": "98a14617-4f75-487c-aeb8-48195a734878",
   "metadata": {},
   "source": [
    "# About \n",
    "\n",
    "This notebook uses a module approach to coding the notebook."
   ]
  },
  {
   "cell_type": "code",
   "execution_count": null,
   "id": "0c845f60-c000-4eff-b91e-cd6e81ce4611",
   "metadata": {},
   "outputs": [],
   "source": [
    "import _installer_dataverseTest # run the _installer_dataverseTest.py script\n",
    "%load_ext autoreload\n",
    "%autoreload all\n",
    "# we need the 'autoreload' above if we are actively making changes to the worker.py module and want to reload any changes to the module without restarting the notebook kernel\n",
    "# NOTE: if we make changes to the worker script we need to rerun this code block for the notebook to use the new edits\n",
    "\n",
    "from _worker_modTest import Worker\n",
    "objWorker = Worker(\"_config_DvApi.json\") # initialize our Worker object; we should only need to call this once for the notebook session (working with 'demo' configuration)"
   ]
  },
  {
   "cell_type": "code",
   "execution_count": null,
   "id": "ef0dfd3f-6932-4bdd-9eae-eca3ca7694ec",
   "metadata": {},
   "outputs": [],
   "source": [
    "objWorker.ObjDvApi.ViewCollection()"
   ]
  },
  {
   "cell_type": "code",
   "execution_count": null,
   "id": "8b2e0f59-710c-4a7f-9891-accdda0d2d42",
   "metadata": {},
   "outputs": [],
   "source": []
  }
 ],
 "metadata": {
  "kernelspec": {
   "display_name": "Python 3 (ipykernel)",
   "language": "python",
   "name": "python3"
  },
  "language_info": {
   "codemirror_mode": {
    "name": "ipython",
    "version": 3
   },
   "file_extension": ".py",
   "mimetype": "text/x-python",
   "name": "python",
   "nbconvert_exporter": "python",
   "pygments_lexer": "ipython3",
   "version": "3.11.8"
  }
 },
 "nbformat": 4,
 "nbformat_minor": 5
}
